{
 "cells": [
  {
   "cell_type": "code",
   "execution_count": 1,
   "metadata": {},
   "outputs": [],
   "source": [
    "%matplotlib inline\n",
    "import numpy as np\n",
    "import pandas as pd\n",
    "import scipy\n",
    "import sklearn\n",
    "import spacy\n",
    "import matplotlib.pyplot as plt\n",
    "import seaborn as sns\n",
    "import re\n",
    "from nltk.corpus import gutenberg, stopwords\n",
    "from collections import Counter\n",
    "\n",
    "def text_cleaner(text):\n",
    "    # Visual inspection identifies a form of punctuation spaCy does not\n",
    "    # recognize: the double dash '--'.  Better get rid of it now!\n",
    "    text = re.sub(r'--',' ',text) # replace double minus\n",
    "    text = re.sub(\"[\\[].*?[\\]]\", \"\", text) # replace everything in brakets\n",
    "    text = ' '.join(text.split()) # .split() makes a list of words, .join\n",
    "    return text"
   ]
  },
  {
   "cell_type": "code",
   "execution_count": 2,
   "metadata": {},
   "outputs": [
    {
     "name": "stdout",
     "output_type": "stream",
     "text": [
      "['austen-emma.txt', 'austen-persuasion.txt', 'austen-sense.txt', 'bible-kjv.txt', 'blake-poems.txt', 'bryant-stories.txt', 'burgess-busterbrown.txt', 'carroll-alice.txt', 'chesterton-ball.txt', 'chesterton-brown.txt', 'chesterton-thursday.txt', 'edgeworth-parents.txt', 'melville-moby_dick.txt', 'milton-paradise.txt', 'shakespeare-caesar.txt', 'shakespeare-hamlet.txt', 'shakespeare-macbeth.txt', 'whitman-leaves.txt']\n"
     ]
    }
   ],
   "source": [
    "print(gutenberg.fileids())"
   ]
  },
  {
   "cell_type": "code",
   "execution_count": 3,
   "metadata": {},
   "outputs": [],
   "source": [
    "ball = gutenberg.raw('chesterton-ball.txt')"
   ]
  },
  {
   "cell_type": "code",
   "execution_count": 4,
   "metadata": {},
   "outputs": [
    {
     "name": "stdout",
     "output_type": "stream",
     "text": [
      "\n",
      "Raw:\n",
      " [The Ball and The Cross by G.K. Chesterton 1909]\n",
      "\n",
      "\n",
      "I. A DISCUSSION SOMEWHAT IN THE AIR\n",
      "\n",
      "The flying s\n",
      "\n",
      "Removed Titels:\n",
      " [The Ball and The Cross by G.K. Chesterton 1909]\n",
      "\n",
      "\n",
      "I. A DISCUSSION SOMEWHAT IN THE AIR\n",
      "\n",
      "The flying s\n"
     ]
    }
   ],
   "source": [
    "ball = gutenberg.raw('chesterton-ball.txt')\n",
    "\n",
    "# Print the first 100 characters of The Ball and The Cross.\n",
    "print('\\nRaw:\\n', ball[0:100])\n",
    "\n",
    "# Removing the titles\n",
    "# DOES NOT WORK!!! Eventhough it seems to work on the playground\n",
    "# works here least https://regex101.com/\n",
    "ball_new = re.sub(r'^([XVI].{0,3}\\. [A-Z].*)', '', ball)\n",
    "\n",
    "\n",
    "# Print the first 100 characters of The Ball and The Cross.\n",
    "print('\\nRemoved Titels:\\n', ball_new[0:100])"
   ]
  },
  {
   "cell_type": "code",
   "execution_count": 7,
   "metadata": {},
   "outputs": [
    {
     "name": "stdout",
     "output_type": "stream",
     "text": [
      "Match 1 was found at 51-86: I. A DISCUSSION SOMEWHAT IN THE AIR\n",
      "Group 1 found at 51-86: I. A DISCUSSION SOMEWHAT IN THE AIR\n",
      "Match 2 was found at 31839-31885: II. THE RELIGION OF THE STIPENDIARY MAGISTRATE\n",
      "Group 1 found at 31839-31885: II. THE RELIGION OF THE STIPENDIARY MAGISTRATE\n",
      "Match 3 was found at 55095-55120: III. SOME OLD CURIOSITIES\n",
      "Group 1 found at 55095-55120: III. SOME OLD CURIOSITIES\n",
      "Match 4 was found at 76084-76108: IV. A DISCUSSION AT DAWN\n",
      "Group 1 found at 76084-76108: IV. A DISCUSSION AT DAWN\n",
      "Match 5 was found at 101019-101036: V. THE PEACEMAKER\n",
      "Group 1 found at 101019-101036: V. THE PEACEMAKER\n",
      "Match 6 was found at 113542-113567: VI. THE OTHER PHILOSOPHER\n",
      "Group 1 found at 113542-113567: VI. THE OTHER PHILOSOPHER\n",
      "Match 7 was found at 138338-138378: VII. THE VILLAGE OF GRASSLEY-IN-THE-HOLE\n",
      "Group 1 found at 138338-138378: VII. THE VILLAGE OF GRASSLEY-IN-THE-HOLE\n",
      "Match 8 was found at 155774-155804: VIII. AN INTERLUDE OF ARGUMENT\n",
      "Group 1 found at 155774-155804: VIII. AN INTERLUDE OF ARGUMENT\n",
      "Match 9 was found at 169731-169751: IX. THE STRANGE LADY\n",
      "Group 1 found at 169731-169751: IX. THE STRANGE LADY\n",
      "Match 10 was found at 199759-199781: X. THE SWORDS REJOINED\n",
      "Group 1 found at 199759-199781: X. THE SWORDS REJOINED\n",
      "Match 11 was found at 234064-234092: XI. A SCANDAL IN THE VILLAGE\n",
      "Group 1 found at 234064-234092: XI. A SCANDAL IN THE VILLAGE\n",
      "Match 12 was found at 262114-262136: XII. THE DESERT ISLAND\n",
      "Group 1 found at 262114-262136: XII. THE DESERT ISLAND\n",
      "Match 13 was found at 278450-278475: XIII. THE GARDEN OF PEACE\n",
      "Group 1 found at 278450-278475: XIII. THE GARDEN OF PEACE\n",
      "Match 14 was found at 295531-295553: XIV. A MUSEUM OF SOULS\n",
      "Group 1 found at 295531-295553: XIV. A MUSEUM OF SOULS\n",
      "Match 15 was found at 321611-321634: XV. THE DREAM OF MACIAN\n",
      "Group 1 found at 321611-321634: XV. THE DREAM OF MACIAN\n",
      "Match 16 was found at 334972-334998: XVI. THE DREAM OF TURNBULL\n",
      "Group 1 found at 334972-334998: XVI. THE DREAM OF TURNBULL\n",
      "Match 17 was found at 356148-356163: XVII. THE IDIOT\n",
      "Group 1 found at 356148-356163: XVII. THE IDIOT\n",
      "Match 18 was found at 384202-384226: XVIII. A RIDDLE OF FACES\n",
      "Group 1 found at 384202-384226: XVIII. A RIDDLE OF FACES\n",
      "Match 19 was found at 407753-407773: XIX. THE LAST PARLEY\n",
      "Group 1 found at 407753-407773: XIX. THE LAST PARLEY\n",
      "Match 20 was found at 422368-422381: XX. DIES IRAE\n",
      "Group 1 found at 422368-422381: XX. DIES IRAE\n"
     ]
    }
   ],
   "source": [
    "# From slack technical help\n",
    "\n",
    "import re\n",
    "\n",
    "regex = r\"^([XVI].{0,4}\\. [A-Z].*)\"\n",
    "\n",
    "matches = re.finditer(regex, ball, re.MULTILINE)\n",
    "ball_noT= ball\n",
    "for matchNum, match in enumerate(matches, start=1):\n",
    "   \n",
    "   print (\"Match {matchNum} was found at {start}-{end}: {match}\".format(matchNum = matchNum, start = match.start(), end = match.end(), match = match.group()))\n",
    "   \n",
    "   for groupNum in range(0, len(match.groups())):\n",
    "        groupNum = groupNum + 1\n",
    "        print (\"Group {groupNum} found at {start}-{end}: {group}\".format(groupNum = groupNum, start = match.start(groupNum), end = match.end(groupNum), group = match.group(groupNum)))\n",
    "        ball_noT=re.sub(match.group(groupNum),'',ball_noT)"
   ]
  },
  {
   "cell_type": "code",
   "execution_count": 8,
   "metadata": {},
   "outputs": [],
   "source": [
    "# Check if they were all removed\n",
    "matches = re.finditer(regex, ball_noT, re.MULTILINE)\n",
    "\n",
    "for matchNum, match in enumerate(matches, start=1):\n",
    "   \n",
    "   print (\"Match {matchNum} was found at {start}-{end}: {match}\".format(matchNum = matchNum, start = match.start(), end = match.end(), match = match.group()))\n",
    "   \n",
    "   for groupNum in range(0, len(match.groups())):\n",
    "        groupNum = groupNum + 1\n",
    "        print (\"Group {groupNum} found at {start}-{end}: {group}\".format(groupNum = groupNum, start = match.start(groupNum), end = match.end(groupNum), group = match.group(groupNum)))"
   ]
  }
 ],
 "metadata": {
  "kernelspec": {
   "display_name": "Python 3",
   "language": "python",
   "name": "python3"
  },
  "language_info": {
   "codemirror_mode": {
    "name": "ipython",
    "version": 3
   },
   "file_extension": ".py",
   "mimetype": "text/x-python",
   "name": "python",
   "nbconvert_exporter": "python",
   "pygments_lexer": "ipython3",
   "version": "3.6.5"
  },
  "toc": {
   "base_numbering": 1,
   "nav_menu": {},
   "number_sections": true,
   "sideBar": true,
   "skip_h1_title": false,
   "title_cell": "Table of Contents",
   "title_sidebar": "Contents",
   "toc_cell": false,
   "toc_position": {},
   "toc_section_display": true,
   "toc_window_display": false
  },
  "varInspector": {
   "cols": {
    "lenName": 16,
    "lenType": 16,
    "lenVar": 40
   },
   "kernels_config": {
    "python": {
     "delete_cmd_postfix": "",
     "delete_cmd_prefix": "del ",
     "library": "var_list.py",
     "varRefreshCmd": "print(var_dic_list())"
    },
    "r": {
     "delete_cmd_postfix": ") ",
     "delete_cmd_prefix": "rm(",
     "library": "var_list.r",
     "varRefreshCmd": "cat(var_dic_list()) "
    }
   },
   "types_to_exclude": [
    "module",
    "function",
    "builtin_function_or_method",
    "instance",
    "_Feature"
   ],
   "window_display": false
  }
 },
 "nbformat": 4,
 "nbformat_minor": 2
}
